{
 "cells": [
  {
   "cell_type": "code",
   "execution_count": 1,
   "metadata": {},
   "outputs": [],
   "source": [
    "import numpy as np\n",
    "import astropy\n",
    "import matplotlib.pyplot as plt\n",
    "import pandas as pd\n",
    "import camb\n",
    "import astroquery\n",
    "import healpy\n",
    "import astropy.units as u\n",
    "import sympy\n",
    "import reproject\n",
    "import treecorr\n",
    "import Corrfunc\n",
    "import math\n",
    "from astropy.io import fits\n",
    "from astropy.wcs import WCS\n",
    "# %matplotlib inline\n",
    "import healpy as hp\n",
    "import scipy\n",
    "import pymaster\n",
    "import stilts_wrapper\n",
    "import sys\n",
    "import os"
   ]
  },
  {
   "cell_type": "code",
   "execution_count": 2,
   "metadata": {},
   "outputs": [],
   "source": [
    "def data_extractor(cat,hdu=1):\n",
    "    data=cat[hdu].data\n",
    "    columns=cat[hdu].columns\n",
    "    return data,columns"
   ]
  },
  {
   "cell_type": "code",
   "execution_count": 3,
   "metadata": {},
   "outputs": [],
   "source": [
    "def mask(right_ra,left_ra,min_dec,max_dec,cat,ra_column='ra',dec_column='dec'):\n",
    "    RA_LIMITS=(right_ra,left_ra)\n",
    "    DEC_LIMITS=(min_dec, max_dec)\n",
    "    dec_mask = (DEC_LIMITS[0] < cat.dec) & (cat.dec < DEC_LIMITS[1])\n",
    "    if RA_LIMITS[0] < RA_LIMITS[1]:\n",
    "        ra_mask = (RA_LIMITS[0] <= cat.ra) & (cat.ra < RA_LIMITS[1])\n",
    "    else:\n",
    "        ra_mask = (cat.ra <= RA_LIMITS[1]) | (RA_LIMITS[0] < cat.ra)\n",
    "    mask=ra_mask & dec_mask\n",
    "    return mask"
   ]
  },
  {
   "cell_type": "code",
   "execution_count": 4,
   "metadata": {},
   "outputs": [],
   "source": [
    "def flux_gen_cling(cat,number):\n",
    "    vals,bins,patches=plt.hist(cat.peak_flux,\n",
    "    np.logspace(-3,np.log10(max(cat.peak_flux)),50),\n",
    "    log=True,\n",
    "    histtype='step',\n",
    "    density=True,\n",
    "    cumulative=True)\n",
    "    plt.close()\n",
    "\n",
    "    # vals,bins=np.histogram(array=cat.peak_flux,\n",
    "    # bins=np.logspace(-3,np.log10(max(cat.peak_flux)),50)),\n",
    "\n",
    "\n",
    "    random_numbers=np.random.uniform(0,1,number)\n",
    "    \n",
    "    CDF_numpy=np.zeros((len(bins)-1,2))\n",
    "    CDF_numpy[:,0]=bins[:-1]\n",
    "    CDF_numpy[:,1]=vals\n",
    "    \n",
    "    index_values=np.searchsorted(CDF_numpy[:,1],\n",
    "    random_numbers,\n",
    "    side='right')\n",
    "    \n",
    "    S_values=CDF_numpy[index_values,0]\n",
    "    \n",
    "    return S_values"
   ]
  },
  {
   "cell_type": "code",
   "execution_count": 5,
   "metadata": {},
   "outputs": [],
   "source": [
    "def basic_rand_generator(number,model_cat=None,output='Fits'):\n",
    "    #generates basic randoms across the entire sky, with an optional flux distribution.\n",
    "    rand_ra=np.random.uniform(0,360,number)\n",
    "    \n",
    "    rand_sindec = np.random.uniform(-1, 1,number)\n",
    "    rand_dec = np.arcsin(rand_sindec)\n",
    "    rand_dec=rand_dec*180/np.pi\n",
    "\n",
    "    if model_cat==None:\n",
    "        rand_dict={'ra':rand_ra,'dec':rand_dec}\n",
    "        rand_dataframe=pd.DataFrame(rand_dict,dtype=float)\n",
    "        rand_dataframe.reset_index(drop=True,inplace=True)\n",
    "\n",
    "        col1 = fits.Column(name='ra', format='E', array=rand_ra)\n",
    "        col2 = fits.Column(name='dec', format='E', array=rand_dec)\n",
    "        cols = fits.ColDefs([col1, col2])\n",
    "        \n",
    "        rand_hdu = fits.BinTableHDU.from_columns(cols)\n",
    "        del rand_dict,rand_ra,rand_dec,rand_sindec,rand_fluxes\n",
    "\n",
    "    \n",
    "    else: \n",
    "        rand_fluxes=flux_gen_cling(model_cat,10**8)\n",
    "        rand_dict={'ra':rand_ra,'dec':rand_dec,'sim_flux':rand_fluxes}\n",
    "        rand_dataframe=pd.DataFrame(rand_dict,dtype=float)\n",
    "        rand_dataframe.reset_index(drop=True,inplace=True)\n",
    "\n",
    "        col1 = fits.Column(name='ra', format='E', array=rand_ra)\n",
    "        col2 = fits.Column(name='dec', format='E', array=rand_dec)\n",
    "        col3 = fits.Column(name='sim_flux', format='E', array=rand_fluxes)\n",
    "        cols = fits.ColDefs([col1, col2,col3])\n",
    "        \n",
    "        rand_hdu = fits.BinTableHDU.from_columns(cols)\n",
    "        del rand_dict,rand_ra,rand_dec,rand_sindec,rand_fluxes\n",
    "    \n",
    "    if output=='Fits':\n",
    "        output_data=rand_hdu\n",
    "    \n",
    "    elif output=='Pandas':\n",
    "        output_data=rand_dataframe\n",
    "    \n",
    "    return output_data"
   ]
  },
  {
   "cell_type": "code",
   "execution_count": 6,
   "metadata": {},
   "outputs": [],
   "source": [
    "def noise_sim_pandas(random_cat,rms,sigma):\n",
    "    \n",
    "    wcs_RMS=WCS(rms[0].header)\n",
    "    rms_data=rms[0].data\n",
    "    \n",
    "    positions_rands=astropy.coordinates.SkyCoord(random_cat.ra,\n",
    "    random_cat.dec,\n",
    "    unit=u.deg,\n",
    "    frame='fk5')\n",
    "    \n",
    "    rms_pixel_x,rms_pixel_y=wcs_RMS.world_to_pixel(positions_rands)\n",
    "    rms_pixel_x=np.int64(rms_pixel_x)\n",
    "    rms_pixel_y=np.int64(rms_pixel_y)\n",
    "\n",
    "    random_cat['x_pixel_int']=rms_pixel_x\n",
    "    random_cat['y_pixel_int']=rms_pixel_y\n",
    "\n",
    "    random_cat['local_rms']=rms_data[random_cat['y_pixel_int'],\n",
    "    random_cat['x_pixel_int']].astype(float)\n",
    "    \n",
    "    random_cat['sim_flux_rms']=(random_cat['sim_flux']\n",
    "    +(np.random.normal(0,random_cat['local_rms'],len(random_cat))))\n",
    "\n",
    "    random_cat['flux_sigma_ratio']=random_cat['sim_flux_rms']/random_cat['local_rms']\n",
    "    mask=random_cat['flux_sigma_ratio']>=sigma\n",
    "    random_cat=random_cat[mask]\n",
    "    random_cat.reset_index(drop=True,inplace=True)\n",
    "\n",
    "    random_cat.drop(columns=['x_pixel_int'],inplace=True)\n",
    "    random_cat.drop(columns=['y_pixel_int'],inplace=True)\n",
    "    random_cat.drop(columns=['flux_sigma_ratio'],inplace=True)\n",
    "    random_cat.drop(columns=['sim_flux'],inplace=True)\n",
    "\n",
    "    return random_cat   "
   ]
  },
  {
   "cell_type": "code",
   "execution_count": 7,
   "metadata": {},
   "outputs": [],
   "source": [
    "def noise_sim_fits(random_cat,rms,sigma):\n",
    "    \n",
    "    wcs_RMS=WCS(rms[0].header)\n",
    "    rms_data=rms[0].data\n",
    "    \n",
    "    positions_rands=astropy.coordinates.SkyCoord(random_cat.ra,\n",
    "    random_cat.dec,\n",
    "    unit=u.deg,\n",
    "    frame='fk5')\n",
    "    \n",
    "    random_cat=pd.DataFrame(random_cat)\n",
    "\n",
    "    rms_pixel_x,rms_pixel_y=wcs_RMS.world_to_pixel(positions_rands)\n",
    "    rms_pixel_x=np.int64(rms_pixel_x)\n",
    "    rms_pixel_y=np.int64(rms_pixel_y)\n",
    "\n",
    "    random_cat['x_pixel_int']=rms_pixel_x\n",
    "    random_cat['y_pixel_int']=rms_pixel_y\n",
    "\n",
    "    random_cat['local_rms']=rms_data[random_cat['y_pixel_int'],\n",
    "    random_cat['x_pixel_int']].astype(float)\n",
    "    \n",
    "    random_cat['sim_flux_rms']=(random_cat['sim_flux']\n",
    "    +(np.random.normal(0,random_cat['local_rms'],len(random_cat))))\n",
    "\n",
    "    random_cat['flux_sigma_ratio']=random_cat['sim_flux_rms']/random_cat['local_rms']\n",
    "    mask=random_cat['flux_sigma_ratio']>=sigma\n",
    "    random_cat=random_cat[mask]\n",
    "    random_cat.reset_index(drop=True,inplace=True)\n",
    "\n",
    "    random_cat.drop(columns=['x_pixel_int'],inplace=True)\n",
    "    random_cat.drop(columns=['y_pixel_int'],inplace=True)\n",
    "    random_cat.drop(columns=['flux_sigma_ratio'],inplace=True)\n",
    "    random_cat.drop(columns=['sim_flux'],inplace=True)\n",
    "\n",
    "    \n",
    "\n",
    "    return random_cat   "
   ]
  },
  {
   "cell_type": "code",
   "execution_count": 8,
   "metadata": {},
   "outputs": [],
   "source": [
    "def healpixer_fits(cat,ring=True,level=7,remove=False):\n",
    "    intermediate_path='./Intermediate_healpixer_fits.fits'\n",
    "    fits.writeto(intermediate_path,cat,overwrite=True)\n",
    "    if ring==True:\n",
    "        os.system('stilts tskymap in='\n",
    "        +intermediate_path\n",
    "        +' lon=ra lat=dec tiling=healpixring'\n",
    "        +str(level)\n",
    "        +' ocmd=\"healpixmeta -csys C\"'\n",
    "        +' ofmt=fits-healpix'\n",
    "        +' out='+intermediate_path\n",
    "        +' count=true')\n",
    "    \n",
    "    else:\n",
    "        os.system('stilts tskymap in='\n",
    "        +intermediate_path\n",
    "        +' lon=ra lat=dec tiling=hpx'\n",
    "        +str(level)\n",
    "        +' ocmd=\"healpixmeta -csys C\"'\n",
    "        +' ofmt=fits-healpix'\n",
    "        +' out='+intermediate_path\n",
    "        +' count=true')\n",
    "    \n",
    "    output=fits.open(intermediate_path)\n",
    "    \n",
    "    if remove==True:\n",
    "        os.system('rm '+intermediate_path)\n",
    "    \n",
    "    output_data=output[1].data\n",
    "    \n",
    "    return output_data"
   ]
  },
  {
   "cell_type": "code",
   "execution_count": 9,
   "metadata": {},
   "outputs": [],
   "source": [
    "def healpixer_Pandas(cat,ring=True,level=7,remove=False):\n",
    "    intermediate_path='./Intermediate_healpixer_pandas'\n",
    "    cat.to_csv(intermediate_path+'.csv',index=False)\n",
    "    if ring==True:\n",
    "        os.system('stilts tskymap in='\n",
    "        +intermediate_path+'.csv'\n",
    "        +' lon=ra lat=dec tiling=healpixring'\n",
    "        +str(level)\n",
    "        +' ocmd=\"healpixmeta -csys C\"'\n",
    "        +' ofmt=fits-healpix'\n",
    "        +' out='+intermediate_path+'.fits'\n",
    "        +' count=true')\n",
    "    \n",
    "    else:\n",
    "        os.system('stilts tskymap in='\n",
    "        +intermediate_path+'.csv'\n",
    "        +' lon=ra lat=dec tiling=hpx'\n",
    "        +str(level)\n",
    "        +' ocmd=\"healpixmeta -csys C\"'\n",
    "        +' ofmt=fits-healpix'\n",
    "        +' out='+intermediate_path+'.fits'\n",
    "        +' count=true')\n",
    "\n",
    "    output=fits.open(intermediate_path+'.fits')\n",
    "    \n",
    "    if remove==True:\n",
    "        os.system('rm '+intermediate_path+'.fits')\n",
    "    \n",
    "    output_data=output[1].data\n",
    "    return output_data    "
   ]
  },
  {
   "cell_type": "code",
   "execution_count": 10,
   "metadata": {},
   "outputs": [],
   "source": [
    "def frac_weights_healpix(rands_noise,rands_no_noise):\n",
    "    weights=(rands_noise.count/rands_no_noise.count)\n",
    "    pixels=rands_noise.PIXEL\n",
    "    dict={'PIXEL':pixels,'weights':weights}\n",
    "    dataframe=pd.DataFrame(dict)\n",
    "    col1 = fits.Column(name='PIXEL', format='E', array=dataframe.PIXEL)\n",
    "    col2 = fits.Column(name='weights', format='E', array=dataframe['weights'])\n",
    "    cols = fits.ColDefs([col1, col2])\n",
    "    new_cat_healpix=fits.BinTableHDU.from_columns(cols)\n",
    "    return new_cat_healpix.data"
   ]
  },
  {
   "cell_type": "code",
   "execution_count": 11,
   "metadata": {},
   "outputs": [],
   "source": [
    "def healpix_len_cruncher(cat_healpix,rand_healpix):\n",
    "    cat_dataframe=pd.DataFrame(cat_healpix)\n",
    "    dummy_dict={cat_dataframe.columns[0]:np.zeros(1),'count':np.zeros(1)}\n",
    "    dummy_row=pd.DataFrame(dummy_dict,dtype=int)\n",
    "    for i in range(len(rand_healpix)):\n",
    "        if cat_dataframe.iloc[i,0]!=rand_healpix.PIXEL[i]:\n",
    "            cat_dataframe=pd.concat([cat_dataframe,dummy_row])\n",
    "            cat_dataframe.iloc[-1,0]=rand_healpix.PIXEL[i]\n",
    "            cat_dataframe.iloc[-1,1]=0\n",
    "            cat_dataframe.sort_values('PIXEL',axis=0,inplace=True,ignore_index=True)\n",
    "    col1 = fits.Column(name='PIXEL', format='E', array=cat_dataframe.PIXEL)\n",
    "    col2 = fits.Column(name='count', format='E', array=cat_dataframe['count'])\n",
    "    cols = fits.ColDefs([col1, col2])\n",
    "    new_cat_healpix=fits.BinTableHDU.from_columns(cols)\n",
    "    return new_cat_healpix.data"
   ]
  },
  {
   "cell_type": "code",
   "execution_count": 12,
   "metadata": {},
   "outputs": [],
   "source": [
    "def healpix_len_cruncher_V2(healpix_1,healpix_2):\n",
    "    if len(healpix_1)>len(healpix_2):\n",
    "        cat_to_expand=healpix_2\n",
    "        model_cat=healpix_1\n",
    "    if len(healpix_2)>len(healpix_1):\n",
    "        cat_to_expand=healpix_1\n",
    "        model_cat=healpix_2\n",
    "    cat_dataframe=pd.DataFrame(cat_to_expand)\n",
    "    dummy_dict={cat_dataframe.columns[0]:np.zeros(1),'count':np.zeros(1)}\n",
    "    dummy_row=pd.DataFrame(dummy_dict,dtype=int)\n",
    "    for i in range(len(model_cat)):\n",
    "        if cat_dataframe.iloc[i,0]!=model_cat.PIXEL[i]:\n",
    "            cat_dataframe=pd.concat([cat_dataframe,dummy_row])\n",
    "            cat_dataframe.iloc[-1,0]=model_cat.PIXEL[i]\n",
    "            cat_dataframe.iloc[-1,1]=0\n",
    "            cat_dataframe.sort_values('PIXEL',axis=0,inplace=True,ignore_index=True)\n",
    "    col1 = fits.Column(name='PIXEL', format='E', array=cat_dataframe.PIXEL)\n",
    "    col2 = fits.Column(name='count', format='E', array=cat_dataframe['count'])\n",
    "    cols = fits.ColDefs([col1, col2])\n",
    "    new_cat_healpix=fits.BinTableHDU.from_columns(cols)\n",
    "    return new_cat_healpix.data"
   ]
  },
  {
   "cell_type": "code",
   "execution_count": 13,
   "metadata": {},
   "outputs": [],
   "source": [
    "def healpix_len_cruncher_V3(cat_to_expand,model_cat):\n",
    "    if len(cat_to_expand)>len(model_cat):\n",
    "        print('error: cat to expand larger than model cat')\n",
    "    else:\n",
    "        cat_dataframe=pd.DataFrame(cat_to_expand)\n",
    "        dummy_dict={cat_dataframe.columns[0]:np.zeros(1),'count':np.zeros(1)}\n",
    "        dummy_row=pd.DataFrame(dummy_dict,dtype=int)\n",
    "        for i in range(len(model_cat)):\n",
    "            if cat_dataframe.iloc[i,0]!=model_cat.PIXEL[i]:\n",
    "                cat_dataframe=pd.concat([cat_dataframe,dummy_row])\n",
    "                cat_dataframe.iloc[-1,0]=model_cat.PIXEL[i]\n",
    "                cat_dataframe.iloc[-1,1]=0\n",
    "                cat_dataframe.sort_values('PIXEL',axis=0,inplace=True,ignore_index=True)\n",
    "        col1 = fits.Column(name='PIXEL', format='E', array=cat_dataframe.PIXEL)\n",
    "        col2 = fits.Column(name='count', format='E', array=cat_dataframe['count'])\n",
    "        cols = fits.ColDefs([col1, col2])\n",
    "        new_cat_healpix=fits.BinTableHDU.from_columns(cols)\n",
    "        return new_cat_healpix.data"
   ]
  },
  {
   "cell_type": "code",
   "execution_count": 14,
   "metadata": {},
   "outputs": [],
   "source": [
    "def dataframe_healpix_healpixer(dataframe):\n",
    "    col1 = fits.Column(name='PIXEL', format='E', array=dataframe.PIXEL)\n",
    "    col2 = fits.Column(name='count', format='E', array=dataframe['count'])\n",
    "    cols = fits.ColDefs([col1, col2])\n",
    "    new_cat_healpix=fits.BinTableHDU.from_columns(cols)\n",
    "    return new_cat_healpix.data"
   ]
  },
  {
   "cell_type": "code",
   "execution_count": 15,
   "metadata": {},
   "outputs": [],
   "source": [
    "def healpix_len_cruncher_V4_remove_rows(cat_to_shrink,model_cat):\n",
    "    if len(cat_to_shrink)<len(model_cat):\n",
    "        print('error: cat to expand smaller than model cat')\n",
    "    else:\n",
    "        cat_dataframe=pd.DataFrame(cat_to_shrink)\n",
    "        for i in range(len(cat_to_shrink)):\n",
    "            if cat_dataframe.iloc[i,0]!=model_cat.PIXEL[i]:\n",
    "                cat_dataframe.iloc[i,0]=np.nan\n",
    "        cat_dataframe=cat_dataframe.dropna(inplace=True,subset=['PIXEL'])\n",
    "        cat_dataframe.sort_values('PIXEL',axis=0,inplace=True,ignore_index=True)\n",
    "        col1 = fits.Column(name='PIXEL', format='E', array=cat_dataframe.PIXEL)\n",
    "        col2 = fits.Column(name='count', format='E', array=cat_dataframe['count'])\n",
    "        cols = fits.ColDefs([col1, col2])\n",
    "        new_cat_healpix=fits.BinTableHDU.from_columns(cols)\n",
    "        return new_cat_healpix.data"
   ]
  },
  {
   "cell_type": "code",
   "execution_count": 16,
   "metadata": {},
   "outputs": [],
   "source": [
    "def overdensity(cat,weights):\n",
    "    cat_dataframe=pd.DataFrame(cat)\n",
    "    weight_dataframe=pd.DataFrame(weights)\n",
    "    cat_dataframe['weights']=weight_dataframe['weights']\n",
    "    mask=cat_dataframe['weights']>=0.5\n",
    "    cat_dataframe=cat_dataframe[mask]\n",
    "    cat_dataframe['weighted_count']=cat_dataframe['count']/cat_dataframe['weights']\n",
    "    mean_weighted_value=np.nanmean(cat_dataframe['weighted_count'])\n",
    "    cat_dataframe['overdensity']=(cat_dataframe['count']/(mean_weighted_value*cat_dataframe['weights']))-1\n",
    "    col1 = fits.Column(name='PIXEL', format='E', array=cat_dataframe.PIXEL)\n",
    "    col2 = fits.Column(name='overdensity', format='E', array=cat_dataframe['overdensity'])\n",
    "    cols = fits.ColDefs([col1, col2])\n",
    "    new_cat_healpix=fits.BinTableHDU.from_columns(cols)\n",
    "    return new_cat_healpix.data,new_cat_healpix"
   ]
  },
  {
   "cell_type": "code",
   "execution_count": 17,
   "metadata": {},
   "outputs": [],
   "source": [
    "def blanker(cat,level=7,fill_value=np.nan):\n",
    "        cat_dataframe=pd.DataFrame(cat)\n",
    "        dummy_dict={cat_dataframe.columns[0]:np.zeros(1),'count':fill_value*np.zeros(1)}\n",
    "        dummy_row=pd.DataFrame(dummy_dict,dtype=int)\n",
    "        npix=hp.nside2npix(hp.order2nside(level))\n",
    "        dummy_cat_dict={cat_dataframe.columns[0]:np.arange(npix)+1,'count':fill_value*np.ones(npix)}\n",
    "        model_cat=pd.DataFrame(dummy_cat_dict)\n",
    "        for i in range(len(cat)):\n",
    "            if cat_dataframe.iloc[i,0]!=model_cat.PIXEL[i]:\n",
    "                cat_dataframe=pd.concat([cat_dataframe,dummy_row])\n",
    "                cat_dataframe.iloc[-1,0]=model_cat.PIXEL[i]\n",
    "                #cat_dataframe.iloc[-1,1]=0\n",
    "                cat_dataframe.sort_values('PIXEL',axis=0,inplace=True,ignore_index=True)\n",
    "        col1 = fits.Column(name='PIXEL', format='E', array=cat_dataframe.PIXEL)\n",
    "        col2 = fits.Column(name='count', format='E', array=cat_dataframe['count'])\n",
    "        cols = fits.ColDefs([col1, col2])\n",
    "        new_cat_healpix=fits.BinTableHDU.from_columns(cols)\n",
    "        return new_cat_healpix.data"
   ]
  },
  {
   "cell_type": "code",
   "execution_count": 18,
   "metadata": {},
   "outputs": [
    {
     "name": "stderr",
     "output_type": "stream",
     "text": [
      "WARNING: VerifyWarning: Invalid 'BLANK' keyword in header.  The 'BLANK' keyword is only applicable to integer data, and will be ignored in this HDU. [astropy.io.fits.hdu.image]\n"
     ]
    }
   ],
   "source": [
    "#Basic importiing, generation.\n",
    "catalogue=astropy.io.fits.open(\"../Data/XG_IDR2_4Parts_170-231MHz_comp_rescaled.fits\")\n",
    "rms=astropy.io.fits.open(\"../Data/XG_IDR2_4Parts_170-231MHz_rms.fits\")\n",
    "cat_data,cat_cols=data_extractor(catalogue)\n",
    "rands=basic_rand_generator(10**8,model_cat=cat_data,output='Pandas')\n",
    "\n",
    "\n",
    "#Masking to appropriate area.\n",
    "cat_mask=mask(339,83,-30,-10,cat_data)\n",
    "rands_mask=mask(339,83,-30,-10,rands)\n",
    "rands=rands[rands_mask]\n",
    "rands_no_noise=rands.copy(deep=True)\n",
    "cat_data=cat_data[cat_mask]\n",
    "\n",
    "\n",
    "#Simulating the noise properties of the catalogue.\n",
    "rands=noise_sim_pandas(rands,rms,5)\n",
    "\n",
    "\n",
    "#Healpix making.\n",
    "rands_healpix=healpixer_Pandas(rands,ring=True,level=7,remove=False)\n",
    "rands_no_noise_healpix=healpixer_Pandas(rands_no_noise,ring=True,level=7,remove=False)\n",
    "cat_healpix=healpixer_fits(cat_data,ring=True,level=7,remove=False)\n",
    "cat_healpix=healpix_len_cruncher_V3(cat_healpix,rands_no_noise_healpix)\n",
    "rands_healpix=healpix_len_cruncher_V3(rands_healpix,rands_no_noise_healpix)\n",
    "\n",
    "#computing the weights\n",
    "weights=frac_weights_healpix(rands_healpix,rands_no_noise_healpix)\n",
    "\n",
    "#computing the overdensity\n",
    "overdensity,overdensity_fits=overdensity(cat_healpix,weights)"
   ]
  },
  {
   "cell_type": "code",
   "execution_count": null,
   "metadata": {},
   "outputs": [
    {
     "data": {
      "text/plain": [
       "9533"
      ]
     },
     "execution_count": 19,
     "metadata": {},
     "output_type": "execute_result"
    }
   ],
   "source": [
    "len(overdensity)"
   ]
  },
  {
   "cell_type": "code",
   "execution_count": null,
   "metadata": {},
   "outputs": [
    {
     "data": {
      "text/plain": [
       "19066"
      ]
     },
     "execution_count": 20,
     "metadata": {},
     "output_type": "execute_result"
    }
   ],
   "source": [
    "overdensity_test=blanker(overdensity)\n",
    "len(overdensity_test)"
   ]
  },
  {
   "cell_type": "code",
   "execution_count": null,
   "metadata": {},
   "outputs": [
    {
     "data": {
      "text/plain": [
       "196608"
      ]
     },
     "execution_count": 21,
     "metadata": {},
     "output_type": "execute_result"
    }
   ],
   "source": [
    "hp.nside2npix(hp.order2nside(7))"
   ]
  },
  {
   "cell_type": "code",
   "execution_count": null,
   "metadata": {},
   "outputs": [
    {
     "ename": "TypeError",
     "evalue": "bad number of pixels",
     "output_type": "error",
     "traceback": [
      "\u001b[0;31m---------------------------------------------------------------------------\u001b[0m",
      "\u001b[0;31mTypeError\u001b[0m                                 Traceback (most recent call last)",
      "\u001b[0;32m/tmp/ipykernel_63240/1130200215.py\u001b[0m in \u001b[0;36m<module>\u001b[0;34m\u001b[0m\n\u001b[0;32m----> 1\u001b[0;31m \u001b[0mhp\u001b[0m\u001b[0;34m.\u001b[0m\u001b[0mfitsfunc\u001b[0m\u001b[0;34m.\u001b[0m\u001b[0mwrite_map\u001b[0m\u001b[0;34m(\u001b[0m\u001b[0;34m'../Data/test_overdensity.fits'\u001b[0m\u001b[0;34m,\u001b[0m\u001b[0moverdensity_test\u001b[0m\u001b[0;34m,\u001b[0m\u001b[0moverwrite\u001b[0m\u001b[0;34m=\u001b[0m\u001b[0;32mTrue\u001b[0m\u001b[0;34m,\u001b[0m\u001b[0mfits_IDL\u001b[0m\u001b[0;34m=\u001b[0m\u001b[0;32mFalse\u001b[0m\u001b[0;34m,\u001b[0m\u001b[0mcolumn_names\u001b[0m\u001b[0;34m=\u001b[0m\u001b[0;34m[\u001b[0m\u001b[0;34m'overdensity'\u001b[0m\u001b[0;34m]\u001b[0m\u001b[0;34m,\u001b[0m\u001b[0mpartial\u001b[0m\u001b[0;34m=\u001b[0m\u001b[0;32mTrue\u001b[0m\u001b[0;34m)\u001b[0m\u001b[0;34m\u001b[0m\u001b[0;34m\u001b[0m\u001b[0m\n\u001b[0m",
      "\u001b[0;32m~/anaconda3/lib/python3.9/site-packages/healpy/fitsfunc.py\u001b[0m in \u001b[0;36mwrite_map\u001b[0;34m(filename, m, nest, dtype, fits_IDL, coord, partial, column_names, column_units, extra_header, overwrite)\u001b[0m\n\u001b[1;32m    190\u001b[0m \u001b[0;34m\u001b[0m\u001b[0m\n\u001b[1;32m    191\u001b[0m     \u001b[0mm\u001b[0m \u001b[0;34m=\u001b[0m \u001b[0mpixelfunc\u001b[0m\u001b[0;34m.\u001b[0m\u001b[0mma_to_array\u001b[0m\u001b[0;34m(\u001b[0m\u001b[0mm\u001b[0m\u001b[0;34m)\u001b[0m\u001b[0;34m\u001b[0m\u001b[0;34m\u001b[0m\u001b[0m\n\u001b[0;32m--> 192\u001b[0;31m     \u001b[0;32mif\u001b[0m \u001b[0mpixelfunc\u001b[0m\u001b[0;34m.\u001b[0m\u001b[0mmaptype\u001b[0m\u001b[0;34m(\u001b[0m\u001b[0mm\u001b[0m\u001b[0;34m)\u001b[0m \u001b[0;34m==\u001b[0m \u001b[0;36m0\u001b[0m\u001b[0;34m:\u001b[0m  \u001b[0;31m# a single map is converted to a list\u001b[0m\u001b[0;34m\u001b[0m\u001b[0;34m\u001b[0m\u001b[0m\n\u001b[0m\u001b[1;32m    193\u001b[0m         \u001b[0mm\u001b[0m \u001b[0;34m=\u001b[0m \u001b[0;34m[\u001b[0m\u001b[0mm\u001b[0m\u001b[0;34m]\u001b[0m\u001b[0;34m\u001b[0m\u001b[0;34m\u001b[0m\u001b[0m\n\u001b[1;32m    194\u001b[0m \u001b[0;34m\u001b[0m\u001b[0m\n",
      "\u001b[0;32m~/anaconda3/lib/python3.9/site-packages/healpy/pixelfunc.py\u001b[0m in \u001b[0;36mmaptype\u001b[0;34m(m)\u001b[0m\n\u001b[1;32m    229\u001b[0m             \u001b[0;32mreturn\u001b[0m \u001b[0mlen\u001b[0m\u001b[0;34m(\u001b[0m\u001b[0mm\u001b[0m\u001b[0;34m)\u001b[0m\u001b[0;34m\u001b[0m\u001b[0;34m\u001b[0m\u001b[0m\n\u001b[1;32m    230\u001b[0m         \u001b[0;32melse\u001b[0m\u001b[0;34m:\u001b[0m\u001b[0;34m\u001b[0m\u001b[0;34m\u001b[0m\u001b[0m\n\u001b[0;32m--> 231\u001b[0;31m             \u001b[0;32mraise\u001b[0m \u001b[0mTypeError\u001b[0m\u001b[0;34m(\u001b[0m\u001b[0;34m\"bad number of pixels\"\u001b[0m\u001b[0;34m)\u001b[0m\u001b[0;34m\u001b[0m\u001b[0;34m\u001b[0m\u001b[0m\n\u001b[0m\u001b[1;32m    232\u001b[0m     \u001b[0;32melse\u001b[0m\u001b[0;34m:\u001b[0m\u001b[0;34m\u001b[0m\u001b[0;34m\u001b[0m\u001b[0m\n\u001b[1;32m    233\u001b[0m         \u001b[0;32mif\u001b[0m \u001b[0misnpixok\u001b[0m\u001b[0;34m(\u001b[0m\u001b[0mlen\u001b[0m\u001b[0;34m(\u001b[0m\u001b[0mm\u001b[0m\u001b[0;34m)\u001b[0m\u001b[0;34m)\u001b[0m\u001b[0;34m:\u001b[0m\u001b[0;34m\u001b[0m\u001b[0;34m\u001b[0m\u001b[0m\n",
      "\u001b[0;31mTypeError\u001b[0m: bad number of pixels"
     ]
    }
   ],
   "source": [
    "hp.fitsfunc.write_map('../Data/test_overdensity.fits',overdensity_test,overwrite=True,fits_IDL=False,column_names=['overdensity'],partial=True)"
   ]
  },
  {
   "cell_type": "code",
   "execution_count": null,
   "metadata": {},
   "outputs": [
    {
     "data": {
      "text/plain": [
       "(19062,)"
      ]
     },
     "execution_count": 45,
     "metadata": {},
     "output_type": "execute_result"
    }
   ],
   "source": [
    "overdensity_test.shape"
   ]
  },
  {
   "cell_type": "code",
   "execution_count": null,
   "metadata": {},
   "outputs": [
    {
     "data": {
      "text/plain": [
       "array([1.00000e+00, 2.00000e+00, 3.00000e+00, ..., 1.47709e+05,\n",
       "       1.47710e+05, 1.47711e+05], dtype=float32)"
      ]
     },
     "execution_count": 48,
     "metadata": {},
     "output_type": "execute_result"
    }
   ],
   "source": [
    "overdensity_test.PIXEL"
   ]
  },
  {
   "cell_type": "code",
   "execution_count": null,
   "metadata": {},
   "outputs": [],
   "source": []
  }
 ],
 "metadata": {
  "kernelspec": {
   "display_name": "Python 3.9.7 ('base')",
   "language": "python",
   "name": "python3"
  },
  "language_info": {
   "codemirror_mode": {
    "name": "ipython",
    "version": 3
   },
   "file_extension": ".py",
   "mimetype": "text/x-python",
   "name": "python",
   "nbconvert_exporter": "python",
   "pygments_lexer": "ipython3",
   "version": "3.9.7"
  },
  "orig_nbformat": 4,
  "vscode": {
   "interpreter": {
    "hash": "551d2f2aa75f5805e59d733f97e947ecf028f9238130be675818dc07c0576ec0"
   }
  }
 },
 "nbformat": 4,
 "nbformat_minor": 2
}
